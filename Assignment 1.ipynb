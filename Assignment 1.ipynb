{
 "cells": [
  {
   "cell_type": "markdown",
   "id": "17836171",
   "metadata": {},
   "source": [
    "# 1. In the below elements which of them are values or an expression? eg:- values can be integer or string and expressions will be mathematical operators.\n",
    "\n",
    "* - Expression.\n",
    "&#39;hello&#39; -Expression follwed by comments.\n",
    "-87.8 -Negative integer value.\n",
    "- -Expression.\n",
    "/ -Expression.\n",
    "+ -Expression.\n",
    "6 -Interger Value."
   ]
  },
  {
   "cell_type": "markdown",
   "id": "b3a00fc8",
   "metadata": {},
   "source": [
    "# 2. What is the difference between string and variable?\n",
    "\n",
    "Variable is a name of values stored in computer's memory. Varible can store many different type of values which can be integer,string,boolean,etc.\n",
    "In python, one can declare a variable by giving it a name and assigning it a value using assignment operator \"=\".\n",
    "Python can understand what type of data is assigned to the variable.\n",
    "For example : \n",
    "\n",
    "number = 10;\n",
    "\n",
    "number is the name of the variable and 10 is the value of that variable.\n",
    "\n",
    "String is a data type in python that contains series of charaters and it can be reprented in double quotes(\"  \") or single quotes ('  ')\n",
    "\n",
    "For example :\n",
    "\n",
    "class = 'python'; \n",
    "OR\n",
    "class = \"python\";\n",
    "\n",
    "Here the name of the varible is class which conatins string value python in it.\n",
    "\n",
    "So one can basically conclude that \"Variable\" can have multiple data type values like interger, string, boolean etc while \"String\" has only one specified data type value which can be stored in a variable."
   ]
  },
  {
   "cell_type": "markdown",
   "id": "767e46ca",
   "metadata": {},
   "source": [
    "# 3. Describe three different data types.\n",
    "\n",
    "In python there are many different types of data types, following are most commonly used data types :\n",
    "    i.   Integers\n",
    "    ii.  Strings\n",
    "    iii. Lists\n",
    "    \n",
    "    i. Integers : \n",
    "        \n",
    "        Integers is a data type in python which consist of integer values, integer is basically a whole number without\n",
    "        decimal value. Syntax for Integer data type in python is varible_name = 1(any number);.\n",
    "        For example :\n",
    "            x = 1;\n",
    "            y = 2;\n",
    "            \n",
    "        'x' and 'y' are the variables that hold integer values.\n",
    "        \n",
    "    ii. Strings :\n",
    "    \n",
    "        Strings is a data type in python which consist of sequence of character values, strings are nothing but \n",
    "        collection of character values. Syntax for string data type in python is variable_name = 'Charater value';\n",
    "        Or variable_name = \"Charater value\";\n",
    "        For example : \n",
    "            str1 = 'Bob';\n",
    "            str2 = \"Hello and Welcome\";\n",
    "            \n",
    "        'str1' and 'str2'  are the variables that hold character values.\n",
    "       \n",
    "    iii. Lists :\n",
    "    \n",
    "         A list is an ordered collection of values, which can be of different data types, it can consist of multiple\n",
    "         data types under one variable name. Syntax for Lists in python is variable_name = [ , , ].\n",
    "         For example:\n",
    "             List1 = [1,2,3];\n",
    "             List2 = ['a','b','c'];\n",
    "             List3 = [1,'s',3.14];\n",
    "         'List1' conatains integer 'List2' conatains character and 'List3' conatains mixed data types.\n",
    "         "
   ]
  },
  {
   "cell_type": "markdown",
   "id": "2485b430",
   "metadata": {},
   "source": [
    "# 4. What is an expression made up of? What do all expressions do?\n",
    "\n"
   ]
  },
  {
   "cell_type": "markdown",
   "id": "54d11f84",
   "metadata": {},
   "source": [
    "# 5. This assignment statements, like spam = 10. What is the difference between an expression and a statement?\n",
    "\n"
   ]
  },
  {
   "cell_type": "markdown",
   "id": "24f26230",
   "metadata": {},
   "source": [
    "# 6. After running the following code, what does the variable bacon contain?bacon = 22        bacon + 1\n",
    "\n"
   ]
  },
  {
   "cell_type": "markdown",
   "id": "2cea0605",
   "metadata": {},
   "source": [
    "# 7. What should the values of the following two terms be?\n",
    "\n",
    "&#39;spam&#39; + &#39;spamspam&#39;\n",
    "&#39;spam&#39; * 3\n",
    "\n"
   ]
  },
  {
   "cell_type": "markdown",
   "id": "ff7706ea",
   "metadata": {},
   "source": [
    "# 8. Why is eggs a valid variable name while 100 is invalid?\n",
    "\n"
   ]
  },
  {
   "cell_type": "markdown",
   "id": "868087f7",
   "metadata": {},
   "source": [
    "# 9. What three functions can be used to get the integer, floating-point number, or string version of a value?\n",
    "\n",
    "\n"
   ]
  },
  {
   "cell_type": "markdown",
   "id": "ec3c467a",
   "metadata": {},
   "source": [
    "# 10. Why does this expression cause an error? How can you fix it?\n",
    "\n",
    "&#39;I have eaten &#39; + 99 + &#39; burritos.&#39;\n",
    "\n"
   ]
  }
 ],
 "metadata": {
  "kernelspec": {
   "display_name": "Python 3 (ipykernel)",
   "language": "python",
   "name": "python3"
  },
  "language_info": {
   "codemirror_mode": {
    "name": "ipython",
    "version": 3
   },
   "file_extension": ".py",
   "mimetype": "text/x-python",
   "name": "python",
   "nbconvert_exporter": "python",
   "pygments_lexer": "ipython3",
   "version": "3.9.13"
  }
 },
 "nbformat": 4,
 "nbformat_minor": 5
}
